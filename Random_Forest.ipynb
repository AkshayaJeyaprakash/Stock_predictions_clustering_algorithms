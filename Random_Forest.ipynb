{
 "cells": [
  {
   "cell_type": "code",
   "execution_count": 1,
   "id": "7b6f5b3d",
   "metadata": {},
   "outputs": [],
   "source": [
    "import csv\n",
    "import random\n",
    "from math import sqrt\n",
    "from random import randrange"
   ]
  },
  {
   "cell_type": "code",
   "execution_count": 2,
   "id": "64364da1",
   "metadata": {},
   "outputs": [],
   "source": [
    "def loadDataset(filename, split1, trainingSet=[], testSet=[], content_header=[]):\n",
    "    a = csv.reader(open(filename,'r'))\n",
    "    dataset = []\n",
    "    for i in a:\n",
    "        dataset.append(i)\n",
    "    \n",
    "    for x in range(len(dataset) - 1):\n",
    "        for y in range(1, len(content_header) - 1):\n",
    "            dataset[x][y] = float(dataset[x][y])\n",
    "        if random.random() < split1:\n",
    "            trainingSet.append(dataset[x])\n",
    "        else:\n",
    "            testSet.append(dataset[x])"
   ]
  },
  {
   "cell_type": "code",
   "execution_count": 3,
   "id": "91c1c9e8",
   "metadata": {},
   "outputs": [],
   "source": [
    "def test_split(index, value, dataset):\n",
    "    left, right = list(), list()\n",
    "    for row in dataset:\n",
    "        if row[index] < value:\n",
    "            left.append(row)\n",
    "        else:\n",
    "            right.append(row)\n",
    "    return left, right"
   ]
  },
  {
   "cell_type": "code",
   "execution_count": 4,
   "id": "699cea6f",
   "metadata": {},
   "outputs": [],
   "source": [
    "# Calculate the Gini index for a split dataset\n",
    "def gini_index(groups, classes):\n",
    "    # count all samples at split point\n",
    "    n_instances = float(sum([len(group) for group in groups]))\n",
    "    # sum weighted Gini index for each group\n",
    "    gini = 0.0\n",
    "    for group in groups:\n",
    "        size = float(len(group))\n",
    "        # avoid divide by zero\n",
    "        if size == 0:\n",
    "            continue\n",
    "        score = 0.0\n",
    "        # score the group based on the score for each class\n",
    "        for class_val in classes:\n",
    "            p = [row[-1] for row in group].count(class_val) / size\n",
    "            score += p * p\n",
    "        # weight the group score by its relative size\n",
    "        gini += (1.0 - score) * (size / n_instances)\n",
    "    return gini"
   ]
  },
  {
   "cell_type": "code",
   "execution_count": 5,
   "id": "39588ab7",
   "metadata": {},
   "outputs": [],
   "source": [
    "# Select the best split point for a dataset\n",
    "def get_split(dataset, n_features):\n",
    "    class_values = list(set(row[-1] for row in dataset))\n",
    "    b_index, b_value, b_score, b_groups = 999, 999, 999, None\n",
    "    features = list()\n",
    "    while len(features) < n_features:\n",
    "        index = randrange(len(dataset[0])-1)\n",
    "        if index not in features:\n",
    "            features.append(index)\n",
    "    for index in features:\n",
    "        for row in dataset:\n",
    "            groups = test_split(index, row[index], dataset)\n",
    "            gini = gini_index(groups, class_values)\n",
    "            if gini < b_score:\n",
    "                b_index, b_value, b_score, b_groups = index, row[index], gini, groups\n",
    "    return {'index':b_index, 'value':b_value, 'groups':b_groups}"
   ]
  },
  {
   "cell_type": "code",
   "execution_count": 6,
   "id": "b228d029",
   "metadata": {},
   "outputs": [],
   "source": [
    "# Create a terminal node value\n",
    "def to_terminal(group):\n",
    "    outcomes = [row[-1] for row in group]\n",
    "    return max(set(outcomes), key=outcomes.count)"
   ]
  },
  {
   "cell_type": "code",
   "execution_count": 7,
   "id": "e60bd4f9",
   "metadata": {},
   "outputs": [],
   "source": [
    "def split(node, max_depth, min_size, n_features, depth):\n",
    "\tleft, right = node['groups']\n",
    "\tdel(node['groups'])\n",
    "\t# check for a no split\n",
    "\tif not left or not right:\n",
    "\t\tnode['left'] = node['right'] = to_terminal(left + right)\n",
    "\t\treturn\n",
    "\t# check for max depth\n",
    "\tif depth >= max_depth:\n",
    "\t\tnode['left'], node['right'] = to_terminal(left), to_terminal(right)\n",
    "\t\treturn\n",
    "\t# process left child\n",
    "\tif len(left) <= min_size:\n",
    "\t\tnode['left'] = to_terminal(left)\n",
    "\telse:\n",
    "\t\tnode['left'] = get_split(left, n_features)\n",
    "\t\tsplit(node['left'], max_depth, min_size, n_features, depth+1)\n",
    "\t# process right child\n",
    "\tif len(right) <= min_size:\n",
    "\t\tnode['right'] = to_terminal(right)\n",
    "\telse:\n",
    "\t\tnode['right'] = get_split(right, n_features)\n",
    "\t\tsplit(node['right'], max_depth, min_size, n_features, depth+1)"
   ]
  },
  {
   "cell_type": "code",
   "execution_count": 8,
   "id": "837081e8",
   "metadata": {},
   "outputs": [],
   "source": [
    "def build_tree(train, max_depth, min_size, n_features):\n",
    "    root = get_split(train, n_features)\n",
    "    split(root, max_depth, min_size, n_features, 1)\n",
    "    return root"
   ]
  },
  {
   "cell_type": "code",
   "execution_count": 9,
   "id": "50f45a54",
   "metadata": {},
   "outputs": [],
   "source": [
    "def predict(node, row):\n",
    "    if row[node['index']] < node['value']:\n",
    "        if isinstance(node['left'], dict):\n",
    "            return predict(node['left'], row)\n",
    "        else:\n",
    "            return node['left']\n",
    "    else:\n",
    "        if isinstance(node['right'], dict):\n",
    "            return predict(node['right'], row)\n",
    "        else:\n",
    "            return node['right']"
   ]
  },
  {
   "cell_type": "code",
   "execution_count": 10,
   "id": "4647079f",
   "metadata": {},
   "outputs": [],
   "source": [
    "# Create a random subsample from the dataset with replacement\n",
    "def subsample(dataset, ratio):\n",
    "    sample = list()\n",
    "    n_sample = round(len(dataset) * ratio)\n",
    "    while len(sample) < n_sample:\n",
    "        index = randrange(len(dataset))\n",
    "        sample.append(dataset[index])\n",
    "    return sample"
   ]
  },
  {
   "cell_type": "code",
   "execution_count": 11,
   "id": "46c09c44",
   "metadata": {},
   "outputs": [],
   "source": [
    "# Make a prediction with a list of bagged trees\n",
    "def bagging_predict(trees, row):\n",
    "    predictions = [predict(tree, row) for tree in trees]\n",
    "    return max(set(predictions), key=predictions.count)"
   ]
  },
  {
   "cell_type": "code",
   "execution_count": 12,
   "id": "f649d51c",
   "metadata": {},
   "outputs": [],
   "source": [
    "# Random Forest Algorithm\n",
    "def random_forest(train, test, max_depth, min_size, sample_size, n_trees, n_features):\n",
    "    trees = list()\n",
    "    for i in range(n_trees):\n",
    "        sample = subsample(train, sample_size)\n",
    "        tree = build_tree(sample, max_depth, min_size, n_features)\n",
    "        trees.append(tree)\n",
    "    predictions = [bagging_predict(trees, row) for row in test]\n",
    "    return(predictions)"
   ]
  },
  {
   "cell_type": "code",
   "execution_count": 13,
   "id": "ba526944",
   "metadata": {},
   "outputs": [],
   "source": [
    "def getAccuracy(testSet, predictions):\n",
    "    correct = 0\n",
    "    for x in range(len(testSet)):\n",
    "        if testSet[x][-1] == predictions[x]:\n",
    "            correct += 1\n",
    "    return (correct/float(len(testSet))) * 100.0"
   ]
  },
  {
   "cell_type": "code",
   "execution_count": 14,
   "id": "49c03943",
   "metadata": {},
   "outputs": [],
   "source": [
    "def predictFor(filename, stockname, split1):\n",
    "    iv = [\"date\", \"open\", \"high\", \"low\", \"yesterday closing adj\", \"state change\"]\n",
    "    trainingSet = []\n",
    "    testSet = []\n",
    "    totalCount = 0\n",
    "    loadDataset(filename, split1, trainingSet, testSet, iv)\n",
    "    for i in trainingSet:\n",
    "        i.pop(0)\n",
    "    test_dates = []\n",
    "    for i in testSet:\n",
    "        j = i.pop(0)\n",
    "        test_dates.append(j)\n",
    "    n_folds = 5\n",
    "    max_depth = 10\n",
    "    min_size = 5\n",
    "    sample_size = 1.0\n",
    "    n_trees = 10\n",
    "    n_features = int(sqrt(len(trainingSet[0])-1))\n",
    "    predictions = random_forest(trainingSet, testSet, max_depth, min_size, sample_size, n_trees, n_features)\n",
    "    acc = getAccuracy(testSet, predictions)\n",
    "    totalCount += len(trainingSet) + len(testSet)\n",
    "    print(\"Predicting for \", stockname)\n",
    "    print(\"Train: \" + repr(len(trainingSet)))\n",
    "    print(\"Test: \" + repr(len(testSet)))\n",
    "    print(\"Total: \" + repr(totalCount))\n",
    "    print(\"Accuracy: \",acc)"
   ]
  },
  {
   "cell_type": "code",
   "execution_count": 15,
   "id": "6603d4ab",
   "metadata": {},
   "outputs": [
    {
     "name": "stdout",
     "output_type": "stream",
     "text": [
      "Predicting for  AMTD\n",
      "Train: 3465\n",
      "Test: 381\n",
      "Total: 3846\n",
      "Accuracy:  61.942257217847775\n"
     ]
    }
   ],
   "source": [
    "split1 = 0.90\n",
    "predictFor('amtd.csv', 'AMTD', split1)"
   ]
  },
  {
   "cell_type": "code",
   "execution_count": 16,
   "id": "302b7d46",
   "metadata": {},
   "outputs": [
    {
     "name": "stdout",
     "output_type": "stream",
     "text": [
      "Predicting for  YHOO\n",
      "Train: 3467\n",
      "Test: 379\n",
      "Total: 3846\n",
      "Accuracy:  60.15831134564644\n"
     ]
    }
   ],
   "source": [
    "predictFor('yahoo.csv', 'YHOO', split1)"
   ]
  },
  {
   "cell_type": "code",
   "execution_count": 17,
   "id": "336df52c",
   "metadata": {},
   "outputs": [
    {
     "name": "stdout",
     "output_type": "stream",
     "text": [
      "Predicting for  TWTR\n",
      "Train: 762\n",
      "Test: 100\n",
      "Total: 862\n",
      "Accuracy:  72.0\n"
     ]
    }
   ],
   "source": [
    "predictFor('twtr.csv', 'TWTR', split1)"
   ]
  },
  {
   "cell_type": "code",
   "execution_count": 18,
   "id": "640ae702",
   "metadata": {},
   "outputs": [
    {
     "name": "stdout",
     "output_type": "stream",
     "text": [
      "Predicting for  SBUX\n",
      "Train: 3449\n",
      "Test: 397\n",
      "Total: 3846\n",
      "Accuracy:  58.94206549118388\n"
     ]
    }
   ],
   "source": [
    "predictFor('sbux.csv', 'SBUX', split1)"
   ]
  },
  {
   "cell_type": "code",
   "execution_count": 19,
   "id": "6a5a9e33",
   "metadata": {},
   "outputs": [
    {
     "name": "stdout",
     "output_type": "stream",
     "text": [
      "Predicting for  DIS\n",
      "Train: 3448\n",
      "Test: 398\n",
      "Total: 3846\n",
      "Accuracy:  54.773869346733676\n"
     ]
    }
   ],
   "source": [
    "predictFor('disney.csv', 'DIS', split1)"
   ]
  },
  {
   "cell_type": "code",
   "execution_count": 20,
   "id": "e79efb4a",
   "metadata": {},
   "outputs": [
    {
     "name": "stdout",
     "output_type": "stream",
     "text": [
      "Predicting for  AMZN\n",
      "Train: 3447\n",
      "Test: 399\n",
      "Total: 3846\n",
      "Accuracy:  56.64160401002506\n"
     ]
    }
   ],
   "source": [
    "predictFor('amazon.csv', 'AMZN', split1)"
   ]
  }
 ],
 "metadata": {
  "kernelspec": {
   "display_name": "Python 3",
   "language": "python",
   "name": "python3"
  },
  "language_info": {
   "codemirror_mode": {
    "name": "ipython",
    "version": 3
   },
   "file_extension": ".py",
   "mimetype": "text/x-python",
   "name": "python",
   "nbconvert_exporter": "python",
   "pygments_lexer": "ipython3",
   "version": "3.8.8"
  }
 },
 "nbformat": 4,
 "nbformat_minor": 5
}
