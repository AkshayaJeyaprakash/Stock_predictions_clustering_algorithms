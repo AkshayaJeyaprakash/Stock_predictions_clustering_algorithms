{
 "cells": [
  {
   "cell_type": "code",
   "execution_count": 1,
   "id": "a300fae8",
   "metadata": {},
   "outputs": [],
   "source": [
    "import csv\n",
    "import random"
   ]
  },
  {
   "cell_type": "code",
   "execution_count": 2,
   "id": "78457925",
   "metadata": {},
   "outputs": [],
   "source": [
    "def loadDataset(filename, split1, trainingSet=[], testSet=[], content_header=[]):\n",
    "    a = csv.reader(open(filename,'r'))\n",
    "    dataset = []\n",
    "    for i in a:\n",
    "        dataset.append(i)\n",
    "    \n",
    "    for x in range(len(dataset) - 1):\n",
    "        for y in range(1, len(content_header) - 1):\n",
    "            dataset[x][y] = float(dataset[x][y])\n",
    "        if random.random() < split1:\n",
    "            trainingSet.append(dataset[x])\n",
    "        else:\n",
    "            testSet.append(dataset[x])"
   ]
  },
  {
   "cell_type": "code",
   "execution_count": 3,
   "id": "22ac1913",
   "metadata": {},
   "outputs": [],
   "source": [
    "def test_split(index, value, dataset):\n",
    "    left, right = list(), list()\n",
    "    for row in dataset:\n",
    "        if row[index] < value:\n",
    "            left.append(row)\n",
    "        else:\n",
    "            right.append(row)\n",
    "    return left, right"
   ]
  },
  {
   "cell_type": "code",
   "execution_count": 4,
   "id": "b042058e",
   "metadata": {},
   "outputs": [],
   "source": [
    "# Calculate the Gini index for a split dataset\n",
    "def gini_index(groups, classes):\n",
    "    # count all samples at split point\n",
    "    n_instances = float(sum([len(group) for group in groups]))\n",
    "    # sum weighted Gini index for each group\n",
    "    gini = 0.0\n",
    "    for group in groups:\n",
    "        size = float(len(group))\n",
    "        # avoid divide by zero\n",
    "        if size == 0:\n",
    "            continue\n",
    "        score = 0.0\n",
    "        # score the group based on the score for each class\n",
    "        for class_val in classes:\n",
    "            p = [row[-1] for row in group].count(class_val) / size\n",
    "            score += p * p\n",
    "        # weight the group score by its relative size\n",
    "        gini += (1.0 - score) * (size / n_instances)\n",
    "    return gini"
   ]
  },
  {
   "cell_type": "code",
   "execution_count": 5,
   "id": "3610848b",
   "metadata": {},
   "outputs": [],
   "source": [
    "# Select the best split point for a dataset\n",
    "def get_split(dataset):\n",
    "    class_values = list(set(row[-1] for row in dataset))\n",
    "    b_index, b_value, b_score, b_groups = 999, 999, 999, None\n",
    "    for index in range(len(dataset[0])-1):\n",
    "        for row in dataset:\n",
    "            groups = test_split(index, row[index], dataset)\n",
    "            gini = gini_index(groups, class_values)\n",
    "            if gini < b_score:\n",
    "                b_index, b_value, b_score, b_groups = index, row[index], gini, groups\n",
    "    return {'index':b_index, 'value':b_value, 'groups':b_groups}"
   ]
  },
  {
   "cell_type": "code",
   "execution_count": 6,
   "id": "b9060e86",
   "metadata": {},
   "outputs": [],
   "source": [
    "# Create a terminal node value\n",
    "def to_terminal(group):\n",
    "    outcomes = [row[-1] for row in group]\n",
    "    return max(set(outcomes), key=outcomes.count)"
   ]
  },
  {
   "cell_type": "code",
   "execution_count": 7,
   "id": "7003c7dd",
   "metadata": {},
   "outputs": [],
   "source": [
    "def split(node, max_depth, min_size, depth):\n",
    "    left, right = node['groups']\n",
    "    del(node['groups'])\n",
    "    # check for a no split\n",
    "    if not left or not right:\n",
    "        node['left'] = node['right'] = to_terminal(left + right)\n",
    "        return\n",
    "    # check for max depth\n",
    "    if depth >= max_depth:\n",
    "        node['left'], node['right'] = to_terminal(left), to_terminal(right)\n",
    "        return\n",
    "    # process left child\n",
    "    if len(left) <= min_size:\n",
    "        node['left'] = to_terminal(left)\n",
    "    else:\n",
    "        node['left'] = get_split(left)\n",
    "        split(node['left'], max_depth, min_size, depth+1)\n",
    "    # process right child\n",
    "    if len(right) <= min_size:\n",
    "        node['right'] = to_terminal(right)\n",
    "    else:\n",
    "        node['right'] = get_split(right)\n",
    "        split(node['right'], max_depth, min_size, depth+1)"
   ]
  },
  {
   "cell_type": "code",
   "execution_count": 8,
   "id": "fd2f601c",
   "metadata": {},
   "outputs": [],
   "source": [
    "def build_tree(train, max_depth, min_size):\n",
    "    root = get_split(train)\n",
    "    split(root, max_depth, min_size, 1)\n",
    "    return root"
   ]
  },
  {
   "cell_type": "code",
   "execution_count": 9,
   "id": "b225e225",
   "metadata": {},
   "outputs": [],
   "source": [
    "def predict(node, row):\n",
    "    if row[node['index']] < node['value']:\n",
    "        if isinstance(node['left'], dict):\n",
    "            return predict(node['left'], row)\n",
    "        else:\n",
    "            return node['left']\n",
    "    else:\n",
    "        if isinstance(node['right'], dict):\n",
    "            return predict(node['right'], row)\n",
    "        else:\n",
    "            return node['right']"
   ]
  },
  {
   "cell_type": "code",
   "execution_count": 10,
   "id": "0ec6ead1",
   "metadata": {},
   "outputs": [],
   "source": [
    "# Classification and Regression Tree Algorithm\n",
    "def decision_tree(train, test, max_depth, min_size):\n",
    "    tree = build_tree(train, max_depth, min_size)\n",
    "    predictions = list()\n",
    "    for row in test:\n",
    "        prediction = predict(tree, row)\n",
    "        predictions.append(prediction)\n",
    "    return(predictions)"
   ]
  },
  {
   "cell_type": "code",
   "execution_count": 11,
   "id": "e41243af",
   "metadata": {},
   "outputs": [],
   "source": [
    "def getAccuracy(testSet, predictions):\n",
    "    correct = 0\n",
    "    for x in range(len(testSet)):\n",
    "        if testSet[x][-1] == predictions[x]:\n",
    "            correct += 1\n",
    "    return (correct/float(len(testSet))) * 100.0"
   ]
  },
  {
   "cell_type": "code",
   "execution_count": 12,
   "id": "89da7414",
   "metadata": {},
   "outputs": [],
   "source": [
    "def predictFor(filename, stockname, split1):\n",
    "    iv = [\"date\", \"open\", \"high\", \"low\", \"yesterday closing adj\", \"state change\"]\n",
    "    trainingSet = []\n",
    "    testSet = []\n",
    "    totalCount = 0\n",
    "    loadDataset(filename, split1, trainingSet, testSet, iv)\n",
    "    for i in trainingSet:\n",
    "        i.pop(0)\n",
    "    test_dates = []\n",
    "    for i in testSet:\n",
    "        j = i.pop(0)\n",
    "        test_dates.append(j)\n",
    "    max_depth = 5\n",
    "    min_size = 10\n",
    "    predictions = decision_tree(trainingSet, testSet, max_depth, min_size)\n",
    "    acc = getAccuracy(testSet, predictions)\n",
    "    totalCount += len(trainingSet) + len(testSet)\n",
    "    print(\"Predicting for \", stockname)\n",
    "    print(\"Train: \" + repr(len(trainingSet)))\n",
    "    print(\"Test: \" + repr(len(testSet)))\n",
    "    print(\"Total: \" + repr(totalCount))\n",
    "    print(\"Accuracy: \",acc)"
   ]
  },
  {
   "cell_type": "code",
   "execution_count": 13,
   "id": "6f22376a",
   "metadata": {},
   "outputs": [
    {
     "name": "stdout",
     "output_type": "stream",
     "text": [
      "Predicting for  AMTD\n",
      "Train: 3432\n",
      "Test: 414\n",
      "Total: 3846\n",
      "Accuracy:  50.72463768115942\n"
     ]
    }
   ],
   "source": [
    "split1 = 0.90\n",
    "predictFor('amtd.csv', 'AMTD', split1)"
   ]
  },
  {
   "cell_type": "code",
   "execution_count": 14,
   "id": "317e2f30",
   "metadata": {},
   "outputs": [
    {
     "name": "stdout",
     "output_type": "stream",
     "text": [
      "Predicting for  YHOO\n",
      "Train: 3475\n",
      "Test: 371\n",
      "Total: 3846\n",
      "Accuracy:  55.79514824797843\n"
     ]
    }
   ],
   "source": [
    "predictFor('yahoo.csv', 'YHOO', split1)"
   ]
  },
  {
   "cell_type": "code",
   "execution_count": 15,
   "id": "6e303f6f",
   "metadata": {},
   "outputs": [
    {
     "name": "stdout",
     "output_type": "stream",
     "text": [
      "Predicting for  TWTR\n",
      "Train: 782\n",
      "Test: 80\n",
      "Total: 862\n",
      "Accuracy:  56.25\n"
     ]
    }
   ],
   "source": [
    "predictFor('twtr.csv', 'TWTR', split1)"
   ]
  },
  {
   "cell_type": "code",
   "execution_count": 19,
   "id": "dafc6601",
   "metadata": {},
   "outputs": [
    {
     "name": "stdout",
     "output_type": "stream",
     "text": [
      "Predicting for  SBUX\n",
      "Train: 3476\n",
      "Test: 370\n",
      "Total: 3846\n",
      "Accuracy:  52.43243243243243\n"
     ]
    }
   ],
   "source": [
    "predictFor('sbux.csv', 'SBUX', split1)"
   ]
  },
  {
   "cell_type": "code",
   "execution_count": 17,
   "id": "4e474d9c",
   "metadata": {},
   "outputs": [
    {
     "name": "stdout",
     "output_type": "stream",
     "text": [
      "Predicting for  DIS\n",
      "Train: 3490\n",
      "Test: 356\n",
      "Total: 3846\n",
      "Accuracy:  53.65168539325843\n"
     ]
    }
   ],
   "source": [
    "predictFor('disney.csv', 'DIS', split1)"
   ]
  },
  {
   "cell_type": "code",
   "execution_count": 21,
   "id": "58942469",
   "metadata": {},
   "outputs": [
    {
     "name": "stdout",
     "output_type": "stream",
     "text": [
      "Predicting for  AMZN\n",
      "Train: 3467\n",
      "Test: 379\n",
      "Total: 3846\n",
      "Accuracy:  52.242744063324544\n"
     ]
    }
   ],
   "source": [
    "predictFor('amazon.csv', 'AMZN', split1)"
   ]
  }
 ],
 "metadata": {
  "kernelspec": {
   "display_name": "Python 3",
   "language": "python",
   "name": "python3"
  },
  "language_info": {
   "codemirror_mode": {
    "name": "ipython",
    "version": 3
   },
   "file_extension": ".py",
   "mimetype": "text/x-python",
   "name": "python",
   "nbconvert_exporter": "python",
   "pygments_lexer": "ipython3",
   "version": "3.8.8"
  }
 },
 "nbformat": 4,
 "nbformat_minor": 5
}
